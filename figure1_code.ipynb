{
 "cells": [
  {
   "cell_type": "code",
   "execution_count": 1,
   "metadata": {
    "collapsed": true
   },
   "outputs": [],
   "source": [
    "import numpy as np\n",
    "from scipy import stats\n",
    "import pandas as pd\n",
    "from collections import defaultdict\n",
    "from matplotlib import rc\n",
    "import matplotlib.pyplot as plt\n",
    "from sklearn.model_selection import train_test_split, StratifiedKFold\n",
    "from sklearn.metrics import accuracy_score, hinge_loss\n",
    "import dro_model\n",
    "%matplotlib inline\n",
    "rc('font', family='serif')\n",
    "rc('text', usetex=True)"
   ]
  },
  {
   "cell_type": "code",
   "execution_count": 2,
   "metadata": {},
   "outputs": [],
   "source": [
    "def twonorm(N):\n",
    "    Nc = np.int(N // 2)\n",
    "    mu = 2/np.sqrt(20)\n",
    "    y = np.hstack([np.ones(Nc), -np.ones(Nc)])\n",
    "    X = np.vstack([np.random.normal(loc=mu, scale=1, size=[Nc, 20]),\n",
    "                   np.random.normal(loc=-mu, scale=1, size=[Nc, 20])])\n",
    "    return X, y\n",
    "\n",
    "def threenorm(N):\n",
    "    Nc = np.int(N // 2)\n",
    "    mu = 2/np.sqrt(20)\n",
    "    y = np.hstack([np.ones(Nc), -np.ones(Nc)])\n",
    "    X = np.vstack([np.random.normal(loc=mu, scale=1, size=[Nc, 20]),\n",
    "                   np.hstack([np.random.normal(loc=-mu, scale=1, size=[Nc, 10]),\n",
    "                              np.random.normal(loc=mu, scale=1, size=[Nc, 10])])\n",
    "                  ])\n",
    "    return X, y\n",
    "\n",
    "def kfold_select(param, X_train, y_train):    \n",
    "    skf = StratifiedKFold(n_splits=5)\n",
    "    total_loss = defaultdict(list)\n",
    "    for train_index, val_index in skf.split(X_train, y_train):\n",
    "        X_train_k, X_val_k = X_train[train_index], X_train[val_index]\n",
    "        y_train_k, y_val_k = y_train[train_index], y_train[val_index]\n",
    "        data_k = {'x': X_train_k, 'y': y_train_k}\n",
    "        optimal = dro_model.svm(param, data_k)\n",
    "        for key, value in optimal.items():\n",
    "            w_opt = np.array(value['w'])\n",
    "            pred_decision = X_val_k.dot(w_opt)\n",
    "            total_loss[key].append(hinge_loss(y_val_k, pred_decision))\n",
    "    return pd.DataFrame(total_loss)[::-1].mean().idxmin()"
   ]
  },
  {
   "cell_type": "code",
   "execution_count": 3,
   "metadata": {
    "collapsed": true
   },
   "outputs": [],
   "source": [
    "epsilon = np.hstack([np.arange(1, 10) * 1e-3,\n",
    "                     np.arange(1, 10) * 1e-2,\n",
    "                     np.arange(1, 11) * 1e-1])\n",
    "epsilon2 = np.hstack([np.arange(1, 10) * 1e-5,\n",
    "                      np.arange(1, 10) * 1e-4,\n",
    "                      np.arange(1, 10) * 1e-3,\n",
    "                      np.arange(1, 10) * 1e-2,\n",
    "                      np.arange(1, 11) * 1e-1])\n",
    "PARAM = {\n",
    "    'epsilon': epsilon,\n",
    "    'kappa': [float('inf')],\n",
    "    'pnorm': 1,\n",
    "    'd': [],\n",
    "    'C': []\n",
    "}\n",
    "PARAM2 = {\n",
    "    'epsilon': epsilon2,\n",
    "    'kappa': [float('inf')],\n",
    "    'pnorm': 1,\n",
    "    'd': [],\n",
    "    'C': []\n",
    "}\n",
    "DIR_FIGURES = r'./figure/'\n",
    "DIR_CACHE = r'./datacache/'"
   ]
  },
  {
   "cell_type": "code",
   "execution_count": 4,
   "metadata": {
    "scrolled": true
   },
   "outputs": [
    {
     "name": "stdout",
     "output_type": "stream",
     "text": [
      "Iteration  100\n",
      "Iteration  200\n",
      "Iteration  300\n",
      "Iteration  400\n",
      "Iteration  500\n",
      "Iteration  600\n",
      "Iteration  700\n",
      "Iteration  800\n",
      "Iteration  900\n",
      "Iteration  1000\n"
     ]
    }
   ],
   "source": [
    "N_train = 1e3\n",
    "N_array = np.hstack((np.arange(1, 10) * 10, np.arange(1, 11) * 100))\n",
    "N_test = 1e5\n",
    "run_count = 1000\n",
    "best_epsilons = np.zeros([N_array.shape[0], run_count])\n",
    "certificates = np.zeros([N_array.shape[0], epsilon.shape[0], run_count])\n",
    "kfold_epsilons = np.zeros([N_array.shape[0], run_count])\n",
    "risk = np.zeros(run_count)\n",
    "best_case = np.zeros([epsilon2.shape[0], run_count])\n",
    "worst_case = np.zeros([epsilon2.shape[0], run_count])\n",
    "confidence = np.zeros([epsilon2.shape[0], run_count])\n",
    "for r in range(run_count):\n",
    "    if (r + 1) % 100 == 0:\n",
    "        print('Iteration ', r+1)\n",
    "    X_train, y_train = threenorm(N_train)\n",
    "    X_test, y_test = threenorm(N_test)\n",
    "    cnt_N = 0\n",
    "    for N in N_array:\n",
    "        Nc = np.int(N // 2)\n",
    "        index = np.hstack([np.arange(Nc), np.int(N_train // 2) + np.arange(Nc)])\n",
    "        X_train_i = X_train[index, :]\n",
    "        y_train_i = y_train[index]\n",
    "        training_data = {'x': X_train_i, 'y': y_train_i}\n",
    "        optimal = dro_model.svm(PARAM, training_data)\n",
    "        total_loss = {}\n",
    "        cnt_eps = 0\n",
    "        for key, value in optimal.items():\n",
    "            w_opt = np.array(value['w'])\n",
    "            J_opt = value['objective']\n",
    "            pred_decision = X_test.dot(w_opt)\n",
    "            total_loss[key[1]] = hinge_loss(y_test, pred_decision)\n",
    "            certificates[cnt_N, cnt_eps, r] = J_opt > total_loss[key[1]]\n",
    "            if N == 100 and key[1] == 1e-1:\n",
    "                risk[r] = 1 - accuracy_score(\n",
    "                    y_test, np.sign(pred_decision))\n",
    "                worst_case[:, r] = dro_model.upper_bound_risk(\n",
    "                    PARAM2, training_data, w_opt)\n",
    "                best_case[:, r] = dro_model.lower_bound_risk(\n",
    "                    PARAM2, training_data, w_opt)\n",
    "                confidence[:, r] = np.logical_and(\n",
    "                    best_case[:, r] <= risk[r],\n",
    "                    worst_case[:, r] >= risk[r])\n",
    "            cnt_eps += 1\n",
    "        best_epsilons[cnt_N, r] = pd.Series(total_loss)[::-1].idxmin()\n",
    "        kfold_epsilons[cnt_N, r] = kfold_select(PARAM, X_train_i, y_train_i)[1]\n",
    "        cnt_N += 1"
   ]
  },
  {
   "cell_type": "code",
   "execution_count": 26,
   "metadata": {},
   "outputs": [],
   "source": [
    "condition = certificates.mean(axis=2) >= 0.95\n",
    "index = np.argmax(condition[:, ::-1], axis=1)\n",
    "cert_epsilons = np.array([epsilon[i] for i in index])\n",
    "cert_epsilons[condition.sum(axis=1) == 0] = np.max(epsilon)"
   ]
  },
  {
   "cell_type": "code",
   "execution_count": 27,
   "metadata": {},
   "outputs": [
    {
     "data": {
      "image/png": "[encoded data removed]",
      "text/plain": [
       "<matplotlib.figure.Figure at 0x1d10c296d30>"
      ]
     },
     "metadata": {},
     "output_type": "display_data"
    }
   ],
   "source": [
    "colors = [(0, 0.2, 0.9), (0.9, 0.2, 0), (0, 0.5, 0)]\n",
    "line_width = 3\n",
    "ts = stats.t.ppf(0.99, run_count-1)\n",
    "fig, ax = plt.subplots()\n",
    "ax.plot(N_array, best_epsilons.mean(axis=1),\n",
    "         color=colors[0], linewidth=line_width)\n",
    "condition = certificates.mean(axis=2) >= 0.95\n",
    "index = np.argmax(condition[:, ::-1], axis=1)\n",
    "cert_epsilons = np.array([epsilon[i] for i in index])\n",
    "cert_epsilons[condition.sum(axis=1) == 0] = np.max(epsilon)\n",
    "ax.plot(N_array, cert_epsilons,\n",
    "         color=colors[1], linewidth=line_width)\n",
    "ax.plot(N_array, kfold_epsilons.mean(axis=1),\n",
    "         color=colors[2], linewidth=line_width)\n",
    "ax.legend([r'optimal $\\rho$',\n",
    "           r'generalization bound $\\rho$',\n",
    "           r'cross validation $\\rho$'])\n",
    "ax.set_xscale('log')\n",
    "ax.set_yscale('log')\n",
    "ax.set_xlabel(r'$N$', fontsize=14)\n",
    "ax.set_ylabel(r'$\\rho$', fontsize=16)\n",
    "ax.set_ylim(1e-3, 1e0)\n",
    "ax.set_xlim(1e1, 1e3)\n",
    "fig.savefig(DIR_FIGURES + 'best_eps.eps', format='eps', dpi=1000)\n",
    "fig.set_facecolor('white')"
   ]
  },
  {
   "cell_type": "code",
   "execution_count": 28,
   "metadata": {},
   "outputs": [
    {
     "data": {
      "image/png": "[encoded data removed]",
      "text/plain": [
       "<matplotlib.figure.Figure at 0x1d10c17ec88>"
      ]
     },
     "metadata": {},
     "output_type": "display_data"
    }
   ],
   "source": [
    "colors = [(0, 0.2, 0.9), (0.9, 0.2, 0), (0.9, 0.2, 0)]\n",
    "fig, ax1 = plt.subplots()\n",
    "ax1.set_prop_cycle('color', colors)\n",
    "ax1.plot(epsilon2, risk.mean() * np.ones(epsilon2.shape),\n",
    "         epsilon2, worst_case.mean(axis=1), '--',\n",
    "         epsilon2, best_case.mean(axis=1), ':',\n",
    "         linewidth=line_width)\n",
    "ax1.plot(np.nan, color=(0, 0.5, 0), linewidth=line_width)\n",
    "\n",
    "ax1.set_xscale('log')\n",
    "ax1.set_xlabel(r'$\\rho$', fontsize=16)\n",
    "ax1.set_ylabel('Risk', fontsize=16, color=colors[0])\n",
    "ax1.tick_params('y', colors=colors[0])\n",
    "ax1.set_xlim(1e-5, 1e0)\n",
    "ax1.set_ylim(0, 1.0)\n",
    "plt.legend(['True Risk', 'Upper Bound', 'Lower Bound', 'Confidence'])\n",
    "ax2 = ax1.twinx()\n",
    "ax2.plot(epsilon2, confidence.mean(axis=1),\n",
    "         color=(0, 0.5, 0), linewidth=line_width)\n",
    "ax2.set_ylabel('Confidence', fontsize=16, color=(0, 0.5, 0))\n",
    "ax2.tick_params('y', colors=(0, 0.5, 0))\n",
    "ax2.set_xlim(1e-5, 1e0)\n",
    "ax2.set_ylim(0, 1.0)\n",
    "fig.savefig(DIR_FIGURES + 'risk.eps', format='eps', dpi=1000)\n",
    "fig.set_facecolor('white')"
   ]
  },
  {
   "cell_type": "code",
   "execution_count": 34,
   "metadata": {},
   "outputs": [
    {
     "name": "stdout",
     "output_type": "stream",
     "text": [
      "0.009 0.963 0.11023609 0.162558572591 0.00845772676167\n"
     ]
    }
   ],
   "source": [
    "ind = np.argmax(confidence.mean(axis=1) >= 0.95)\n",
    "print(epsilon2[ind], confidence.mean(axis=1)[ind], risk.mean(),\n",
    "      worst_case.mean(axis=1)[ind], best_case.mean(axis=1)[ind])"
   ]
  },
  {
   "cell_type": "code",
   "execution_count": null,
   "metadata": {},
   "outputs": [],
   "source": [
    "N_train = 1e4\n",
    "N_array2 = np.array([10, 100, 1000, 10000])\n",
    "N_test = 1e5\n",
    "run_count = 1000\n",
    "norms_w = np.zeros([N_array2.shape[0], epsilon2.shape[0], run_count])\n",
    "for r in range(run_count):\n",
    "    if (r + 1) % 100 == 0:\n",
    "        print('Iteration ', r+1)\n",
    "    X_train, y_train = threenorm(N_train)\n",
    "    X_test, y_test = threenorm(N_test)\n",
    "    cnt_N = 0\n",
    "    for N in N_array2:\n",
    "        Nc = np.int(N // 2)\n",
    "        index = np.hstack([np.arange(Nc), np.int(N_train // 2) + np.arange(Nc)])\n",
    "        X_train_i = X_train[index, :]\n",
    "        y_train_i = y_train[index]\n",
    "        training_data = {'x': X_train_i, 'y': y_train_i}\n",
    "        optimal = dro_model.svm(PARAM2, training_data)\n",
    "        total_loss = {}\n",
    "        cnt_eps = 0\n",
    "        for key, value in optimal.items():\n",
    "            w_opt = np.array(value['w'])\n",
    "            norms_w[cnt_N, cnt_eps, r] = np.linalg.norm(w_opt, 1)\n",
    "            cnt_eps += 1\n",
    "        cnt_N += 1"
   ]
  },
  {
   "cell_type": "code",
   "execution_count": null,
   "metadata": {},
   "outputs": [],
   "source": [
    "per_max_norm = np.percentile(norms_w, 95, axis=2).T\n",
    "per_min_norm = np.percentile(norms_w, 5, axis=2).T\n",
    "fig, ax = plt.subplots()\n",
    "colors = [(0, 0.2, 0.9), (0.9, 0.2, 0), (0, 0.5, 0), (0.5, 0.2, 0.5)]\n",
    "plt.rcParams['text.latex.preamble']=[r'\\usepackage{bm}',\n",
    "                                     r'\\usepackage{amsfonts}']\n",
    "ax.set_prop_cycle('color', colors)\n",
    "for index, N in enumerate(N_array2):\n",
    "    print(index)\n",
    "    ax.fill_between(epsilon2[::-1], per_max_norm[:, index],\n",
    "                    per_min_norm[:, index], alpha=0.5)\n",
    "ax.set_xscale('log')\n",
    "ax.set_yscale('log')\n",
    "ax.set_xlabel(r'$\\rho$', fontsize=16)\n",
    "ax.set_ylabel(r'$\\Vert {\\bm{w}} \\Vert_{*}$', fontsize=16)\n",
    "ax.set_xlim(1e-5, 1e0)\n",
    "ax.legend([r'$N=10$', r'$N=100$', r'$N=1000$', r'$N=10000$'])\n",
    "fig.savefig(DIR_FIGURES + 'quantile.pdf', format='pdf', dpi=1000)\n",
    "fig.set_facecolor('white')"
   ]
  },
  {
   "cell_type": "code",
   "execution_count": null,
   "metadata": {},
   "outputs": [],
   "source": [
    "max_norm = np.max(norms_w, axis=2).T\n",
    "min_norm = np.min(norms_w, axis=2).T\n",
    "max_norm[max_norm == 0] = np.nan\n",
    "min_norm[min_norm == 0] = np.nan\n",
    "colors = [(0, 0.2, 0.9), (0.9, 0.2, 0), (0, 0.5, 0)]\n",
    "plt.rcParams['text.latex.preamble']=[r'\\usepackage{bm}',\n",
    "                                     r'\\usepackage{amsfonts}']\n",
    "\n",
    "fig, ax = plt.subplots()\n",
    "ax.set_prop_cycle('color', colors)\n",
    "ax.plot(epsilon2[::-1], max_norm[:, 1::], linewidth=3)\n",
    "ax.plot(epsilon2[::-1], min_norm[:, 1::], ':', linewidth=3)\n",
    "ax.set_xscale('log')\n",
    "ax.set_xlabel(r'$\\rho$', fontsize=16)\n",
    "ax.set_ylabel(r'$\\Vert {\\bm{w}} \\Vert_{*}$', fontsize=16)\n",
    "ax.set_xlim(1e-5, 1e0)\n",
    "\n",
    "lines = ax.get_lines()\n",
    "title = r'$\\max \\Vert {\\bm{w}} \\Vert_{*}$' + \\\n",
    "        r'$\\qquad \\qquad \\qquad$' + \\\n",
    "        r'$\\min \\Vert {\\bm{w}} \\Vert_{*}$'\n",
    "plt.legend([lines[i] for i in range(6)],\n",
    "           [r'$N=100$', r'$N=1000$', r'$N=10000$',\n",
    "            r'$N=100$', r'$N=1000$', r'$N=10000$'],\n",
    "           title=title,\n",
    "           ncol=2, loc=1)\n",
    "fig.savefig(DIR_FIGURES + 'up_low.eps', format='eps', dpi=1000)\n",
    "fig.set_facecolor('white')"
   ]
  },
  {
   "cell_type": "code",
   "execution_count": null,
   "metadata": {},
   "outputs": [],
   "source": [
    "max_norm2 = np.percentile(norms_w, 95, axis=2).T\n",
    "min_norm2 = np.percentile(norms_w, 5, axis=2).T\n",
    "max_norm2[max_norm2 == 0] = np.nan\n",
    "min_norm2[min_norm2 == 0] = np.nan\n",
    "fig, ax = plt.subplots()\n",
    "ax.set_prop_cycle('color', colors)\n",
    "ax.plot(epsilon2[::-1], max_norm[:, 1::] / min_norm[:, 1::],\n",
    "        ':', linewidth =3)\n",
    "ax.plot(epsilon2[::-1], max_norm2[:, 1::] / min_norm2[:, 1::], linewidth =3)\n",
    "\n",
    "ax.set_xscale('log')\n",
    "ax.set_yscale('log')\n",
    "ax.set_xlabel(r'$\\rho$', fontsize=16)\n",
    "ylabel = r'$\\mathrm{VaR}_{1-\\alpha}(\\Vert {\\bm{w}} \\Vert_{*}) / $' + \\\n",
    "         r'$\\mathrm{VaR}_{\\alpha}(\\Vert {\\bm{w}} \\Vert_{*})$'\n",
    "ax.set_ylabel(ylabel, fontsize=16)\n",
    "ax.set_xlim(1e-5, 1e0)\n",
    "ax.set_ylim(0, 100)\n",
    "\n",
    "lines = ax.get_lines()\n",
    "title = r'$\\alpha = 0$' + \\\n",
    "        r'$\\qquad \\quad \\qquad$' + \\\n",
    "        r'$\\alpha = 0.05$'\n",
    "plt.legend([lines[i] for i in range(6)],\n",
    "           [r'$N=10^2$', r'$N=10^3$', r'$N=10^4$',\n",
    "            r'$N=10^2$', r'$N=10^3$', r'$N=10^4$'],\n",
    "           title=title,\n",
    "           ncol=2, loc=1)\n",
    "fig.savefig(DIR_FIGURES + 'ratio.pdf', format='pdf', dpi=1000)\n",
    "fig.set_facecolor('white')"
   ]
  },
  {
   "cell_type": "code",
   "execution_count": 29,
   "metadata": {
    "collapsed": true
   },
   "outputs": [],
   "source": [
    "np.savetxt(DIR_CACHE + 'best_eps.csv', best_epsilons, delimiter=',')\n",
    "np.savetxt(DIR_CACHE + 'kfold_eps.csv', kfold_epsilons, delimiter=',')\n",
    "np.save(DIR_CACHE + 'certificates.npy', certificates)\n",
    "# np.save(DIR_CACHE + 'norms_w.npy', norms_w)\n",
    "np.savetxt(DIR_CACHE + 'risk.csv', risk, delimiter=',')\n",
    "np.savetxt(DIR_CACHE + 'best_case.csv', best_case, delimiter=',')\n",
    "np.savetxt(DIR_CACHE + 'worst_case.csv', worst_case, delimiter=',')\n",
    "np.savetxt(DIR_CACHE + 'confidence.csv', confidence, delimiter=',')\n",
    "# best_epsilons = np.loadtxt(DIR_CACHE + 'best_eps.csv', delimiter=',')\n",
    "# kfold_epsilons = np.loadtxt(DIR_CACHE + 'kfold_eps.csv', delimiter=',')\n",
    "# certificates = np.load(DIR_CACHE + 'certificates.npy')\n",
    "# norms_w = np.load(DIR_CACHE + 'norms_w.npy')\n",
    "# risk = np.loadtxt(DIR_CACHE + 'risk.csv', delimiter=',')\n",
    "# best_case = np.loadtxt(DIR_CACHE + 'best_case.csv', delimiter=',')\n",
    "# worst_case = np.loadtxt(DIR_CACHE + 'worst_case.csv', delimiter=',')\n",
    "# confidence = np.loadtxt(DIR_CACHE + 'confidence.csv', delimiter=',')"
   ]
  },
  {
   "cell_type": "code",
   "execution_count": null,
   "metadata": {
    "collapsed": true
   },
   "outputs": [],
   "source": []
  }
 ],
 "metadata": {
  "kernelspec": {
   "display_name": "Python 3",
   "language": "python",
   "name": "python3"
  },
  "language_info": {
   "codemirror_mode": {
    "name": "ipython",
    "version": 3
   },
   "file_extension": ".py",
   "mimetype": "text/x-python",
   "name": "python",
   "nbconvert_exporter": "python",
   "pygments_lexer": "ipython3",
   "version": "3.6.1"
  }
 },
 "nbformat": 4,
 "nbformat_minor": 2
}
