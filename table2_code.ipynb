{
 "cells": [
  {
   "cell_type": "code",
   "execution_count": null,
   "metadata": {
    "collapsed": true
   },
   "outputs": [],
   "source": [
    "#===============================================================================\n",
    "# IMPORTS\n",
    "#===============================================================================\n",
    "from collections import defaultdict\n",
    "import glob\n",
    "import numpy as np\n",
    "from sklearn.datasets import load_svmlight_file, load_svmlight_files\n",
    "from sklearn.model_selection import train_test_split, StratifiedKFold\n",
    "from sklearn.preprocessing import StandardScaler\n",
    "from sklearn.metrics import roc_auc_score\n",
    "import pandas as pd\n",
    "import dro_model as model\n",
    "from joblib import Parallel, delayed\n",
    "import multiprocessing\n",
    "from parallel_process import parallel_classification_table2\n",
    "import fio\n",
    "import os\n",
    "\n",
    "#===============================================================================\n",
    "# SETTINGS\n",
    "#===============================================================================\n",
    "DIR_DATA = './dataset/'\n",
    "DIR_CACHE = './datacache/'\n",
    "DIR_FIGURES = './figures/'\n",
    "DIR_TABLE = './tables/'\n",
    "TOTAL_RUN = 100\n",
    "pnorms = [1, 2, float('Inf')]"
   ]
  },
  {
   "cell_type": "code",
   "execution_count": null,
   "metadata": {
    "collapsed": true
   },
   "outputs": [],
   "source": [
    "#===============================================================================\n",
    "# Load data, train & test models\n",
    "#===============================================================================\n",
    "FILE_NAMES = []\n",
    "FILE_NAMES = glob.glob(DIR_DATA + \"*.txt\")\n",
    "FILE_NAMES = [fname for fname in FILE_NAMES if '_test.txt' not in fname]\n",
    "NUM_CORES = multiprocessing.cpu_count()\n",
    "DRSVM_AUC = defaultdict(list)\n",
    "DRSVM_CVaR = defaultdict(list)\n",
    "RSVM_AUC = defaultdict(list)\n",
    "RSVM_CVaR = defaultdict(list)\n",
    "SVM_AUC = defaultdict(list)\n",
    "SVM_CVaR = defaultdict(list)\n",
    "for fname in FILE_NAMES:\n",
    "    print(fname[10:-4])\n",
    "    try:\n",
    "        X_train, y_train, X_test, y_test = load_svmlight_files(\n",
    "            (fname, fname[:-4] + '_test.txt'))\n",
    "        X_train = X_train.todense()\n",
    "        X_test = X_test.todense()\n",
    "        labels = np.unique(y_train)\n",
    "        y_train[y_train == labels[0]] = -1\n",
    "        y_train[y_train == labels[1]] = 1\n",
    "        y_test[y_test == labels[0]] = -1\n",
    "        y_test[y_test == labels[1]] = 1\n",
    "        is_test = True\n",
    "    except FileNotFoundError:\n",
    "        data = load_svmlight_file(fname)\n",
    "        X_data = data[0]\n",
    "        y_data = data[1]\n",
    "        X_data = X_data.todense()\n",
    "        labels = np.unique(y_data)\n",
    "        y_data[y_data == labels[0]] = -1\n",
    "        y_data[y_data == labels[1]] = 1\n",
    "        is_test = False\n",
    "    results = []\n",
    "    if is_test:\n",
    "        results = Parallel(n_jobs=NUM_CORES)(\n",
    "            delayed(parallel_classification_table2)(\n",
    "                X_train, y_train, X_test, y_test)\n",
    "            for i in range(TOTAL_RUN))\n",
    "    else:\n",
    "        results = Parallel(n_jobs=NUM_CORES)(\n",
    "            delayed(parallel_classification_table2)(X_data, y_data)\n",
    "            for i in range(TOTAL_RUN))\n",
    "    tmp1, tmp2, tmp3 = zip(*results)\n",
    "    reform1 = defaultdict(list)\n",
    "    reform2 = defaultdict(list)\n",
    "    for pnorm in pnorms:\n",
    "        for i in range(TOTAL_RUN):    \n",
    "            reform1[pnorm].append(tmp1[i][pnorm])\n",
    "            reform2[pnorm].append(tmp2[i][pnorm])\n",
    "    DRSVM_AUC[fname[10:-4]] = reform1\n",
    "    RSVM_AUC[fname[10:-4]] = reform2\n",
    "    SVM_AUC[fname[10:-4]] = list(tmp3)"
   ]
  },
  {
   "cell_type": "code",
   "execution_count": null,
   "metadata": {
    "collapsed": true
   },
   "outputs": [],
   "source": [
    "# reform dictionaries\n",
    "DRSVM_AUC = {(outerKey, innerKey): values\n",
    "             for outerKey, innerDict in DRSVM_AUC.items()\n",
    "             for innerKey, values in innerDict.items()}\n",
    "RSVM_AUC = {(outerKey, innerKey): values\n",
    "            for outerKey, innerDict in RSVM_AUC.items()\n",
    "            for innerKey, values in innerDict.items()}"
   ]
  },
  {
   "cell_type": "code",
   "execution_count": null,
   "metadata": {
    "collapsed": true
   },
   "outputs": [],
   "source": [
    "if not os.path.exists(DIR_CACHE):\n",
    "    os.makedirs(DIR_CACHE)\n",
    "fio.cache(DRSVM_AUC, 'DRSVM_AUC', msg='saving DRSVM AUC results')\n",
    "fio.cache(RSVM_AUC, 'RSVM_AUC', msg='saving RSVM AUC results')\n",
    "fio.cache(SVM_AUC, 'SVM_AUC', msg='saving SVM AUC results')"
   ]
  },
  {
   "cell_type": "code",
   "execution_count": null,
   "metadata": {
    "collapsed": true
   },
   "outputs": [],
   "source": [
    "# convert results to pandas dataframe\n",
    "df1 = pd.DataFrame(DRSVM_AUC)\n",
    "df2 = pd.DataFrame(RSVM_AUC)\n",
    "df3 = pd.DataFrame(SVM_AUC)"
   ]
  },
  {
   "cell_type": "code",
   "execution_count": null,
   "metadata": {
    "collapsed": true
   },
   "outputs": [],
   "source": [
    "out_text = \"\"\"\\documentclass{article}\n",
    "\\\\usepackage{multirow}\n",
    "\\\\usepackage[margin=0.5in]{geometry}\n",
    "\\\\begin{document}\n",
    "\\\\begin{table} [h] \n",
    "\\\\centering\n",
    "\\\\caption{The average Area Under the Curve (AUC) scores\n",
    "evaluated on the test dataset over 100 trials.}\n",
    "\\\\bgroup\n",
    "\\\\def\\\\arraystretch{1.1}\n",
    "\\\\begin{tabular}{|l|c|cc|cc|cc|}\n",
    "\\\\cline{3-8}\n",
    "\\\\multicolumn{2}{c|}{} & \\\\multicolumn{2}{c|}{$\\\\ell_1$-regularizer} & \n",
    "\\\\multicolumn{2}{c|}{$\\\\ell_2$-regularizer} & \\\\multicolumn{2}{c|}{$\\\\ell_\\\\infty$-regularizer} \\\\\\\\ \n",
    "\\\\cline{2-8}\n",
    "\\\\multicolumn{1}{c|}{} & SVM & RSVM & DRSVM & RSVM & DRSVM & RSVM & DRSVM \\\\\\\\ \\hline \\n\"\"\"\n",
    "for fname in FILE_NAMES:\n",
    "    tmp = fname[10:-4].replace(\"_\", \" \") + '& $ ' + str(round(100*df3.mean()[fname[10:-4]],2)) + \\\n",
    "    ' \\\\pm ' + str(round(100*df3.std()[fname[10:-4]],2)) + ' $ '\n",
    "    for pnorm in pnorms:\n",
    "        tmp = tmp + '& $ ' + str(round(100*df2.mean()[fname[10:-4]][pnorm],2)) + \\\n",
    "        ' \\\\pm ' + str(round(100*df2.std()[fname[10:-4]][pnorm],2)) + ' $ '\n",
    "        tmp = tmp + '& $ ' + str(round(100*df1.mean()[fname[10:-4]][pnorm],2)) + \\\n",
    "        ' \\\\pm ' + str(round(100*df1.std()[fname[10:-4]][pnorm],2)) + ' $ '\n",
    "    out_text = out_text + tmp + '\\\\\\\\ \\\\hline \\n'\n",
    "out_text = out_text + '\\\\end{tabular}\\n\\\\egroup\\n\\\\end{table}\\\\end{document}'"
   ]
  },
  {
   "cell_type": "code",
   "execution_count": null,
   "metadata": {
    "collapsed": true
   },
   "outputs": [],
   "source": [
    "# Output latex table\n",
    "if not os.path.exists(DIR_TABLE):\n",
    "    os.makedirs(DIR_TABLE)\n",
    "f = open(DIR_TABLE + 'table_2.tex', 'w')\n",
    "f.write(out_text)\n",
    "f.close()\n",
    "os.chdir(DIR_TABLE)\n",
    "assert os.system('pdflatex table_2.tex') == 0\n",
    "os.chdir('..')"
   ]
  },
  {
   "cell_type": "code",
   "execution_count": null,
   "metadata": {
    "collapsed": true
   },
   "outputs": [],
   "source": []
  }
 ],
 "metadata": {
  "anaconda-cloud": {},
  "kernelspec": {
   "display_name": "Python 3",
   "language": "python",
   "name": "python3"
  },
  "language_info": {
   "codemirror_mode": {
    "name": "ipython",
    "version": 3
   },
   "file_extension": ".py",
   "mimetype": "text/x-python",
   "name": "python",
   "nbconvert_exporter": "python",
   "pygments_lexer": "ipython3",
   "version": "3.6.1"
  }
 },
 "nbformat": 4,
 "nbformat_minor": 1
}
